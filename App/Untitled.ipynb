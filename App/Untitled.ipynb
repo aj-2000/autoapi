{
 "cells": [
  {
   "cell_type": "code",
   "execution_count": 1,
   "id": "26ea09f5",
   "metadata": {},
   "outputs": [],
   "source": [
    "import pandas as pd"
   ]
  },
  {
   "cell_type": "code",
   "execution_count": 2,
   "id": "cab05a54",
   "metadata": {},
   "outputs": [],
   "source": [
    "df = pd.read_csv('productionOfVehicles.csv')\n"
   ]
  },
  {
   "cell_type": "code",
   "execution_count": 3,
   "id": "f8fa5477",
   "metadata": {},
   "outputs": [],
   "source": [
    "df = df.loc[df['Indicators']=='Production of Passenger Cars (PV)'].sort_values('Year')"
   ]
  },
  {
   "cell_type": "code",
   "execution_count": 4,
   "id": "6ee34bf7",
   "metadata": {},
   "outputs": [],
   "source": [
    "pct_change = df['Value'].pct_change()*100"
   ]
  },
  {
   "cell_type": "code",
   "execution_count": 5,
   "id": "3d759b00",
   "metadata": {},
   "outputs": [],
   "source": [
    "df = pd.concat([df,pct_change], axis=1)"
   ]
  },
  {
   "cell_type": "code",
   "execution_count": 6,
   "id": "b6bbfa73",
   "metadata": {},
   "outputs": [],
   "source": [
    "df.columns.values[3] = \"Percentage Change\""
   ]
  },
  {
   "cell_type": "code",
   "execution_count": 7,
   "id": "4a42376d",
   "metadata": {},
   "outputs": [],
   "source": [
    "df = df.round(1)"
   ]
  },
  {
   "cell_type": "code",
   "execution_count": 8,
   "id": "4ea42ae6",
   "metadata": {},
   "outputs": [],
   "source": []
  },
  {
   "cell_type": "code",
   "execution_count": 9,
   "id": "39c747a0",
   "metadata": {},
   "outputs": [
    {
     "data": {
      "text/html": [
       "<div>\n",
       "<style scoped>\n",
       "    .dataframe tbody tr th:only-of-type {\n",
       "        vertical-align: middle;\n",
       "    }\n",
       "\n",
       "    .dataframe tbody tr th {\n",
       "        vertical-align: top;\n",
       "    }\n",
       "\n",
       "    .dataframe thead th {\n",
       "        text-align: right;\n",
       "    }\n",
       "</style>\n",
       "<table border=\"1\" class=\"dataframe\">\n",
       "  <thead>\n",
       "    <tr style=\"text-align: right;\">\n",
       "      <th></th>\n",
       "      <th>Year</th>\n",
       "      <th>Value</th>\n",
       "      <th>Percentage Change</th>\n",
       "    </tr>\n",
       "  </thead>\n",
       "  <tbody>\n",
       "    <tr>\n",
       "      <th>228</th>\n",
       "      <td>2002</td>\n",
       "      <td>557410.0</td>\n",
       "      <td>11.4</td>\n",
       "    </tr>\n",
       "    <tr>\n",
       "      <th>48</th>\n",
       "      <td>2003</td>\n",
       "      <td>782562.0</td>\n",
       "      <td>40.4</td>\n",
       "    </tr>\n",
       "    <tr>\n",
       "      <th>229</th>\n",
       "      <td>2004</td>\n",
       "      <td>960487.0</td>\n",
       "      <td>22.7</td>\n",
       "    </tr>\n",
       "    <tr>\n",
       "      <th>49</th>\n",
       "      <td>2005</td>\n",
       "      <td>1046133.0</td>\n",
       "      <td>8.9</td>\n",
       "    </tr>\n",
       "    <tr>\n",
       "      <th>115</th>\n",
       "      <td>2006</td>\n",
       "      <td>1238032.0</td>\n",
       "      <td>18.3</td>\n",
       "    </tr>\n",
       "    <tr>\n",
       "      <th>0</th>\n",
       "      <td>2007</td>\n",
       "      <td>1426212.0</td>\n",
       "      <td>15.2</td>\n",
       "    </tr>\n",
       "    <tr>\n",
       "      <th>171</th>\n",
       "      <td>2008</td>\n",
       "      <td>1516967.0</td>\n",
       "      <td>6.4</td>\n",
       "    </tr>\n",
       "    <tr>\n",
       "      <th>50</th>\n",
       "      <td>2009</td>\n",
       "      <td>1932620.0</td>\n",
       "      <td>27.4</td>\n",
       "    </tr>\n",
       "    <tr>\n",
       "      <th>51</th>\n",
       "      <td>2010</td>\n",
       "      <td>2453113.0</td>\n",
       "      <td>26.9</td>\n",
       "    </tr>\n",
       "    <tr>\n",
       "      <th>230</th>\n",
       "      <td>2011</td>\n",
       "      <td>2775124.0</td>\n",
       "      <td>13.1</td>\n",
       "    </tr>\n",
       "    <tr>\n",
       "      <th>231</th>\n",
       "      <td>2012</td>\n",
       "      <td>2668633.0</td>\n",
       "      <td>-3.8</td>\n",
       "    </tr>\n",
       "    <tr>\n",
       "      <th>52</th>\n",
       "      <td>2013</td>\n",
       "      <td>2519281.0</td>\n",
       "      <td>-5.6</td>\n",
       "    </tr>\n",
       "    <tr>\n",
       "      <th>53</th>\n",
       "      <td>2014</td>\n",
       "      <td>2595123.0</td>\n",
       "      <td>3.0</td>\n",
       "    </tr>\n",
       "    <tr>\n",
       "      <th>1</th>\n",
       "      <td>2015</td>\n",
       "      <td>2747236.0</td>\n",
       "      <td>5.9</td>\n",
       "    </tr>\n",
       "    <tr>\n",
       "      <th>2</th>\n",
       "      <td>2016</td>\n",
       "      <td>2884790.0</td>\n",
       "      <td>5.0</td>\n",
       "    </tr>\n",
       "  </tbody>\n",
       "</table>\n",
       "</div>"
      ],
      "text/plain": [
       "     Year      Value  Percentage Change\n",
       "228  2002   557410.0               11.4\n",
       "48   2003   782562.0               40.4\n",
       "229  2004   960487.0               22.7\n",
       "49   2005  1046133.0                8.9\n",
       "115  2006  1238032.0               18.3\n",
       "0    2007  1426212.0               15.2\n",
       "171  2008  1516967.0                6.4\n",
       "50   2009  1932620.0               27.4\n",
       "51   2010  2453113.0               26.9\n",
       "230  2011  2775124.0               13.1\n",
       "231  2012  2668633.0               -3.8\n",
       "52   2013  2519281.0               -5.6\n",
       "53   2014  2595123.0                3.0\n",
       "1    2015  2747236.0                5.9\n",
       "2    2016  2884790.0                5.0"
      ]
     },
     "execution_count": 9,
     "metadata": {},
     "output_type": "execute_result"
    }
   ],
   "source": [
    "df.dropna()"
   ]
  },
  {
   "cell_type": "code",
   "execution_count": null,
   "id": "3f4cafd0",
   "metadata": {},
   "outputs": [],
   "source": []
  }
 ],
 "metadata": {
  "kernelspec": {
   "display_name": "Python 3 (ipykernel)",
   "language": "python",
   "name": "python3"
  },
  "language_info": {
   "codemirror_mode": {
    "name": "ipython",
    "version": 3
   },
   "file_extension": ".py",
   "mimetype": "text/x-python",
   "name": "python",
   "nbconvert_exporter": "python",
   "pygments_lexer": "ipython3",
   "version": "3.9.7"
  }
 },
 "nbformat": 4,
 "nbformat_minor": 5
}
