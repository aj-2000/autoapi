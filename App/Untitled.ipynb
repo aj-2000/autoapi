{
 "cells": [
  {
   "cell_type": "code",
   "execution_count": 1,
   "id": "26ea09f5",
   "metadata": {},
   "outputs": [],
   "source": [
    "import pandas as pd"
   ]
  },
  {
   "cell_type": "code",
   "execution_count": 8,
   "id": "cab05a54",
   "metadata": {},
   "outputs": [],
   "source": [
    "df = pd.read_csv('automakers_by_employees.csv')"
   ]
  },
  {
   "cell_type": "code",
   "execution_count": 3,
   "id": "96d23535",
   "metadata": {},
   "outputs": [],
   "source": [
    "# df['earnings_ttm'] = df['earnings_ttm']/1000000000\n",
    "# df = df.iloc[0:5, [1,3]]\n",
    "# df.round()"
   ]
  },
  {
   "cell_type": "code",
   "execution_count": 9,
   "id": "325204c0",
   "metadata": {},
   "outputs": [],
   "source": [
    "df = df.iloc[0:10, [1,3]]"
   ]
  },
  {
   "cell_type": "code",
   "execution_count": 5,
   "id": "f1e68d67",
   "metadata": {},
   "outputs": [],
   "source": [
    "# df['revenue_ttm'] = df['revenue_ttm']/1000000000\n",
    "# df = df.iloc[0:5, [1,3]]\n",
    "# df.round()"
   ]
  },
  {
   "cell_type": "code",
   "execution_count": 10,
   "id": "1953f22c",
   "metadata": {},
   "outputs": [
    {
     "data": {
      "text/html": [
       "<div>\n",
       "<style scoped>\n",
       "    .dataframe tbody tr th:only-of-type {\n",
       "        vertical-align: middle;\n",
       "    }\n",
       "\n",
       "    .dataframe tbody tr th {\n",
       "        vertical-align: top;\n",
       "    }\n",
       "\n",
       "    .dataframe thead th {\n",
       "        text-align: right;\n",
       "    }\n",
       "</style>\n",
       "<table border=\"1\" class=\"dataframe\">\n",
       "  <thead>\n",
       "    <tr style=\"text-align: right;\">\n",
       "      <th></th>\n",
       "      <th>Name</th>\n",
       "      <th>employees_count</th>\n",
       "    </tr>\n",
       "  </thead>\n",
       "  <tbody>\n",
       "    <tr>\n",
       "      <th>0</th>\n",
       "      <td>Volkswagen</td>\n",
       "      <td>645318</td>\n",
       "    </tr>\n",
       "    <tr>\n",
       "      <th>1</th>\n",
       "      <td>Toyota</td>\n",
       "      <td>366283</td>\n",
       "    </tr>\n",
       "    <tr>\n",
       "      <th>2</th>\n",
       "      <td>Mahindra and Mahindra</td>\n",
       "      <td>260000</td>\n",
       "    </tr>\n",
       "    <tr>\n",
       "      <th>3</th>\n",
       "      <td>BYD</td>\n",
       "      <td>224280</td>\n",
       "    </tr>\n",
       "    <tr>\n",
       "      <th>4</th>\n",
       "      <td>Honda</td>\n",
       "      <td>211374</td>\n",
       "    </tr>\n",
       "    <tr>\n",
       "      <th>5</th>\n",
       "      <td>SAIC Motor</td>\n",
       "      <td>204815</td>\n",
       "    </tr>\n",
       "    <tr>\n",
       "      <th>6</th>\n",
       "      <td>Stellantis</td>\n",
       "      <td>204000</td>\n",
       "    </tr>\n",
       "    <tr>\n",
       "      <th>7</th>\n",
       "      <td>Ford</td>\n",
       "      <td>183000</td>\n",
       "    </tr>\n",
       "    <tr>\n",
       "      <th>8</th>\n",
       "      <td>Mercedes-Benz</td>\n",
       "      <td>173000</td>\n",
       "    </tr>\n",
       "    <tr>\n",
       "      <th>9</th>\n",
       "      <td>Renault</td>\n",
       "      <td>170158</td>\n",
       "    </tr>\n",
       "  </tbody>\n",
       "</table>\n",
       "</div>"
      ],
      "text/plain": [
       "                    Name  employees_count\n",
       "0             Volkswagen           645318\n",
       "1                 Toyota           366283\n",
       "2  Mahindra and Mahindra           260000\n",
       "3                    BYD           224280\n",
       "4                  Honda           211374\n",
       "5             SAIC Motor           204815\n",
       "6             Stellantis           204000\n",
       "7                   Ford           183000\n",
       "8          Mercedes-Benz           173000\n",
       "9                Renault           170158"
      ]
     },
     "execution_count": 10,
     "metadata": {},
     "output_type": "execute_result"
    }
   ],
   "source": [
    "# df['marketcap'] = df['marketcap']/1000000000\n",
    "# df = df.iloc[0:5, [1,3]]\n",
    "# df.round()\n",
    "df"
   ]
  },
  {
   "cell_type": "code",
   "execution_count": null,
   "id": "48efa863",
   "metadata": {},
   "outputs": [],
   "source": []
  }
 ],
 "metadata": {
  "kernelspec": {
   "display_name": "Python 3 (ipykernel)",
   "language": "python",
   "name": "python3"
  },
  "language_info": {
   "codemirror_mode": {
    "name": "ipython",
    "version": 3
   },
   "file_extension": ".py",
   "mimetype": "text/x-python",
   "name": "python",
   "nbconvert_exporter": "python",
   "pygments_lexer": "ipython3",
   "version": "3.9.7"
  }
 },
 "nbformat": 4,
 "nbformat_minor": 5
}
